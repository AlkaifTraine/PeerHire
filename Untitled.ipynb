{
 "cells": [
  {
   "cell_type": "code",
   "execution_count": 1,
   "id": "1eb7d392-4ce5-44d2-a575-35843f761d70",
   "metadata": {},
   "outputs": [
    {
     "name": "stdout",
     "output_type": "stream",
     "text": [
      "{'recommendations': [{'experience': 3, 'hourly_rate': 30, 'name': 'Alice', 'skills': 'Python, Flask, ML'}, {'experience': 2, 'hourly_rate': 25, 'name': 'David', 'skills': 'Java, Spring, ML'}, {'experience': 4, 'hourly_rate': 35, 'name': 'Charlie', 'skills': 'Python, Django, Data Science'}, {'experience': 5, 'hourly_rate': 40, 'name': 'Bob', 'skills': 'JavaScript, React, Node'}]}\n"
     ]
    }
   ],
   "source": [
    "import requests\n",
    "\n",
    "url = \"http://127.0.0.1:5000/recommend\"\n",
    "\n",
    "data = {\n",
    "    \"description\": \"Need someone skilled in Python and ML\",\n",
    "    \"budget\": 40\n",
    "}\n",
    "\n",
    "response = requests.post(url, json=data)\n",
    "print(response.json())\n"
   ]
  },
  {
   "cell_type": "code",
   "execution_count": 3,
   "id": "d6c36301-331e-4813-a8c7-c4895f561836",
   "metadata": {},
   "outputs": [
    {
     "data": {
      "text/plain": [
       "{'recommendations': [{'experience': 3,\n",
       "   'hourly_rate': 30,\n",
       "   'name': 'Alice',\n",
       "   'skills': 'Python, Flask, ML'},\n",
       "  {'experience': 2,\n",
       "   'hourly_rate': 25,\n",
       "   'name': 'David',\n",
       "   'skills': 'Java, Spring, ML'},\n",
       "  {'experience': 4,\n",
       "   'hourly_rate': 35,\n",
       "   'name': 'Charlie',\n",
       "   'skills': 'Python, Django, Data Science'},\n",
       "  {'experience': 5,\n",
       "   'hourly_rate': 40,\n",
       "   'name': 'Bob',\n",
       "   'skills': 'JavaScript, React, Node'}]}"
      ]
     },
     "execution_count": 3,
     "metadata": {},
     "output_type": "execute_result"
    }
   ],
   "source": [
    "response.json()"
   ]
  },
  {
   "cell_type": "code",
   "execution_count": null,
   "id": "2610c102-6a36-4697-84b5-804d30f37070",
   "metadata": {},
   "outputs": [],
   "source": []
  }
 ],
 "metadata": {
  "kernelspec": {
   "display_name": "Python 3 (ipykernel)",
   "language": "python",
   "name": "python3"
  },
  "language_info": {
   "codemirror_mode": {
    "name": "ipython",
    "version": 3
   },
   "file_extension": ".py",
   "mimetype": "text/x-python",
   "name": "python",
   "nbconvert_exporter": "python",
   "pygments_lexer": "ipython3",
   "version": "3.11.7"
  }
 },
 "nbformat": 4,
 "nbformat_minor": 5
}
